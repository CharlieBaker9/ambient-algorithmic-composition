{
 "cells": [
  {
   "cell_type": "markdown",
   "id": "03b1404d",
   "metadata": {},
   "source": [
    "# Random Composition of Ambient Music\n",
    "Charlie Baker (Charles.d.baker.24@dartmouth.edu)\n",
    "\n",
    "Expanding upon Brian Eno's Music for Airports\n",
    "\n",
    "Using sounds from a choir, piano, and various singing bowls to generate random ambient music \n",
    "\n",
    "Works based off of the idea of having loops of different length started at random"
   ]
  },
  {
   "cell_type": "code",
   "execution_count": 2,
   "id": "f14f8711",
   "metadata": {},
   "outputs": [],
   "source": [
    "#import functions\n",
    "import random"
   ]
  },
  {
   "cell_type": "code",
   "execution_count": 3,
   "id": "d8b3fd41",
   "metadata": {},
   "outputs": [
    {
     "name": "stdout",
     "output_type": "stream",
     "text": [
      "setcps (94/60/4) \n",
      "d1 $ slow 7.023 $ sound \"~ ~ ~ ~ ~ ~ ~ ~ choir:0 ~\"\n",
      "d2 $ slow 8.45 $ sound \"choir:1 ~ ~ ~ ~ ~ ~ ~ ~ ~\"\n",
      "d3 $ slow 7.97 $ sound \"~ ~ ~ ~ ~ ~ ~ choir:2 ~ ~\"\n",
      "d4 $ slow 13.01 $ sound \"~ ~ ~ ~ ~ ~ ~ choir:3 ~ ~\"\n",
      "d5 $ slow 6.43 $ sound \"~ ~ ~ ~ ~ choir:4 ~ ~ ~ ~\"\n",
      "d6 $ slow 7.77 $ sound \"~ ~ ~ ~ ~ ~ ~ ~ choir:5 ~\"\n",
      "d7 $ slow 9.76 $ sound \"choir:6 ~ ~ ~ ~ ~ ~ ~ ~ ~\"\n",
      "\n"
     ]
    }
   ],
   "source": [
    "#Recreating Brian Eno's 2/1 with random generation of beginning of patterns\n",
    "#Choir\n",
    "string = \"setcps (94/60/4) \\n\"\n",
    "slow = [\"7.023\",\"8.45\",\"7.97\",\"13.01\",\"6.43\",\"7.77\",\"9.76\"]\n",
    "for i in range(0,7):\n",
    "    #random number between 0 and 10\n",
    "    placement = int(random.random()*10)\n",
    "    \n",
    "    #creating a \n",
    "    pattern = \"\\\"\"\n",
    "    for j in range(0,10):\n",
    "        if j == placement:\n",
    "            pattern += \"choir:\"+str(i)+\" \"\n",
    "        else:\n",
    "            pattern += \"~ \"\n",
    "    sound = pattern[0:len(pattern)-1] + \"\\\"\"  \n",
    "    #Brian Eno's tape lengths\n",
    "    line = str(i+1)+\" $ slow \"+slow[i]+\" $ sound \"+sound\n",
    "    \n",
    "    #Random tape lengths\n",
    "    #randSlow = (random.random()*6) + 6\n",
    "    #line = str(i+1)+\" $ slow \"+str(randSlow)+\" $ sound \"+sound\n",
    "    \n",
    "    string = string + \"d\" + line + \"\\n\"\n",
    "print(string)"
   ]
  },
  {
   "cell_type": "code",
   "execution_count": 9,
   "id": "8bc9ed0a",
   "metadata": {},
   "outputs": [
    {
     "name": "stdout",
     "output_type": "stream",
     "text": [
      "setcps (94/60/4) \n",
      "d1 $ slow 6.75 $ sound \"~ ~ piano:0 ~ ~ ~ ~ ~ ~ ~\"\n",
      "d2 $ slow 7.94 $ sound \"~ ~ ~ ~ ~ ~ ~ ~ piano:1 ~\"\n",
      "d3 $ slow 9.17 $ sound \"~ ~ ~ ~ ~ piano:2 ~ ~ ~ ~\"\n",
      "d4 $ slow 11.11 $ sound \"~ ~ ~ ~ ~ ~ ~ piano:3 ~ ~\"\n",
      "d5 $ slow 11.71 $ sound \"~ ~ ~ ~ ~ ~ ~ ~ ~ piano:4\"\n",
      "d6 $ slow 11.90 $ sound \"~ ~ ~ ~ ~ ~ piano:5 ~ ~ ~\"\n",
      "d7 $ slow 12.34 $ sound \"~ piano:6 ~ ~ ~ ~ ~ ~ ~ ~\"\n",
      "d8 $ slow 15.10 $ sound \"~ ~ piano:7 ~ ~ ~ ~ ~ ~ ~\"\n",
      "\n"
     ]
    }
   ],
   "source": [
    "#Recreating Brian Eno's 1/2 with random generation of beginning of patterns\n",
    "#Piano notes\n",
    "string = \"setcps (94/60/4) \\n\"\n",
    "slow = [\"6.75\",\"7.94\",\"9.17\",\"11.11\",\"11.71\",\"11.90\",\"12.34\", \"15.10\"]\n",
    "for i in range(0,8):\n",
    "    #random number between 0 and 10\n",
    "    placement = int(random.random()*10)\n",
    "    \n",
    "    #creating a \n",
    "    pattern = \"\\\"\"\n",
    "    for j in range(0,10):\n",
    "        if j == placement:\n",
    "            pattern += \"piano:\"+str(i)+\" \"\n",
    "        else:\n",
    "            pattern += \"~ \"\n",
    "    sound = pattern[0:len(pattern)-1] + \"\\\"\"\n",
    "    #Brian Eno's tape lengths\n",
    "    line = str(i+1)+\" $ slow \"+slow[i]+\" $ sound \"+sound\n",
    "    \n",
    "    #Random tape lengths\n",
    "    #randSlow = (random.random()*7) + 7\n",
    "    #line = str(i+1)+\" $ slow \"+str(randSlow)+\" $ sound \"+sound\n",
    "    \n",
    "    string = string + \"d\" + line + \"\\n\"\n",
    "print(string)"
   ]
  },
  {
   "cell_type": "code",
   "execution_count": 5,
   "id": "bf66dcc0",
   "metadata": {},
   "outputs": [
    {
     "name": "stdout",
     "output_type": "stream",
     "text": [
      "setcps (60/60/4) \n",
      "d1 $ slow 15.75076760776053 $ sound \"~ singbowl:0 ~ ~ ~ ~ ~ ~ ~ ~\"\n",
      "d2 $ slow 16.696703102294023 $ sound \"~ ~ ~ singbowl:1 ~ ~ ~ ~ ~ ~\"\n",
      "d3 $ slow 17.193865665171028 $ sound \"singbowl:2 ~ ~ ~ ~ ~ ~ ~ ~ ~\"\n",
      "d4 $ slow 18.910658168380447 $ sound \"~ ~ ~ ~ singbowl:3 ~ ~ ~ ~ ~\"\n",
      "d5 $ slow 14.995519009242066 $ sound \"~ ~ ~ ~ singbowl:4 ~ ~ ~ ~ ~\"\n",
      "d6 $ slow 13.441729615075701 $ sound \"~ ~ ~ ~ ~ ~ ~ singbowl:5 ~ ~\"\n",
      "d7 $ slow 17.522417226012653 $ sound \"~ ~ ~ ~ ~ ~ ~ singbowl:6 ~ ~\"\n",
      "d8 $ slow 16.955362359673405 $ sound \"~ ~ ~ ~ ~ ~ ~ ~ ~ singbowl:7\"\n",
      "d9 $ slow 15.203897790358686 $ sound \"~ ~ singbowl:8 ~ ~ ~ ~ ~ ~ ~\"\n",
      "\n"
     ]
    }
   ],
   "source": [
    "#Recreating Brian Eno's 1/2 with random generation of beginning of patterns\n",
    "#Piano notes\n",
    "string = \"setcps (60/60/4) \\n\"\n",
    "for i in range(0,9):\n",
    "    #random number between 0 and 10\n",
    "    placement = int(random.random()*10)\n",
    "    \n",
    "    #creating a \n",
    "    pattern = \"\\\"\"\n",
    "    for j in range(0,10):\n",
    "        if j == placement:\n",
    "            pattern += \"singbowl:\"+str(i)+\" \"\n",
    "        else:\n",
    "            pattern += \"~ \"\n",
    "    sound = pattern[0:len(pattern)-1] + \"\\\"\"\n",
    "    \n",
    "    #Random tape lengths\n",
    "    randSlow = (random.random()*10) + 10\n",
    "    line = str(i+1)+\" $ slow \"+str(randSlow)+\" $ sound \"+sound\n",
    "    \n",
    "    string = string + \"d\" + line + \"\\n\"\n",
    "print(string)"
   ]
  },
  {
   "cell_type": "code",
   "execution_count": 10,
   "id": "eec32893",
   "metadata": {},
   "outputs": [
    {
     "name": "stdout",
     "output_type": "stream",
     "text": [
      "setcps (94/60/4) \n",
      "d1 $ slow 11.984105824949484 $ sound \"~ ~ ~ ~ ~ choir:0 ~ ~ ~ ~\"\n",
      "d2 $ slow 9.929491030779875 $ sound \"choir:1 ~ ~ ~ ~ ~ ~ ~ ~ ~\"\n",
      "d3 $ slow 10.28338529726771 $ sound \"~ ~ ~ ~ choir:2 ~ ~ ~ ~ ~\"\n",
      "d4 $ slow 14.747381724945754 $ sound \"~ choir:3 ~ ~ ~ ~ ~ ~ ~ ~\"\n",
      "d5 $ slow 9.236664044209313 $ sound \"~ ~ ~ ~ ~ ~ ~ choir:4 ~ ~\"\n",
      "d6 $ slow 9.09382082310798 $ sound \"~ choir:5 ~ ~ ~ ~ ~ ~ ~ ~\"\n",
      "d7 $ slow 9.483308448867977 $ sound \"~ ~ ~ ~ ~ ~ choir:6 ~ ~ ~\"\n",
      "d8 $ slow 8.711650584573096 $ sound \"~ singbowl:0 ~ ~ ~ ~ ~ ~ ~ ~\"\n",
      "d9 $ slow 15.564090638734116 $ sound \"~ ~ ~ singbowl:1 ~ ~ ~ ~ ~ ~\"\n",
      "d10 $ slow 8.290133455017324 $ sound \"~ ~ ~ ~ ~ ~ ~ ~ singbowl:2 ~\"\n",
      "d11 $ slow 9.676148723923838 $ sound \"singbowl:3 ~ ~ ~ ~ ~ ~ ~ ~ ~\"\n",
      "d12 $ slow 8.73462364165102 $ sound \"~ ~ ~ ~ ~ ~ singbowl:4 ~ ~ ~\"\n",
      "d13 $ slow 14.904100136481187 $ sound \"~ singbowl:5 ~ ~ ~ ~ ~ ~ ~ ~\"\n",
      "d14 $ slow 10.254701318645711 $ sound \"~ ~ ~ ~ ~ ~ ~ ~ ~ singbowl:6\"\n",
      "d15 $ slow 11.969422303211244 $ sound \"~ ~ ~ ~ ~ ~ singbowl:7 ~ ~ ~\"\n",
      "d16 $ slow 14.915428998672892 $ sound \"~ singbowl:8 ~ ~ ~ ~ ~ ~ ~ ~\"\n",
      "\n"
     ]
    }
   ],
   "source": [
    "string = \"setcps (94/60/4) \\n\"\n",
    "for i in range(0,16):\n",
    "    \n",
    "    #random number between 0 and 10\n",
    "    placement = int(random.random()*10)\n",
    "    \n",
    "    #creating a \n",
    "    pattern = \"\\\"\"\n",
    "    for j in range(0,10):\n",
    "        if j == placement:\n",
    "            if i < 7:\n",
    "                pattern += \"choir:\"+str(i)+\" \"\n",
    "            else:\n",
    "                pattern += \"singbowl:\"+str(i-7)+\" \"\n",
    "        else:\n",
    "            pattern += \"~ \"\n",
    "    sound = pattern[0:len(pattern)-1] + \"\\\"\"\n",
    "\n",
    "    #Random tape lengths\n",
    "    randSlow = (random.random()*8) + 8\n",
    "    line = str(i+1)+\" $ slow \"+str(randSlow)+\" $ sound \"+sound\n",
    "    \n",
    "    string = string + \"d\" + line + \"\\n\"\n",
    "print(string)"
   ]
  }
 ],
 "metadata": {
  "kernelspec": {
   "display_name": "Python 3 (ipykernel)",
   "language": "python",
   "name": "python3"
  },
  "language_info": {
   "codemirror_mode": {
    "name": "ipython",
    "version": 3
   },
   "file_extension": ".py",
   "mimetype": "text/x-python",
   "name": "python",
   "nbconvert_exporter": "python",
   "pygments_lexer": "ipython3",
   "version": "3.9.7"
  }
 },
 "nbformat": 4,
 "nbformat_minor": 5
}
